{
 "cells": [
  {
   "cell_type": "code",
   "execution_count": 1,
   "id": "c3f269e9",
   "metadata": {},
   "outputs": [],
   "source": [
    "from langgraph.graph import StateGraph, START, END\n",
    "from typing import TypedDict, Annotated\n",
    "from langchain_core.messages import BaseMessage, HumanMessage\n",
    "from langchain_groq import ChatGroq\n",
    "from dotenv import load_dotenv\n",
    "from langgraph.checkpoint.memory import MemorySaver"
   ]
  },
  {
   "cell_type": "code",
   "execution_count": 2,
   "id": "1cd10890",
   "metadata": {},
   "outputs": [
    {
     "data": {
      "text/plain": [
       "True"
      ]
     },
     "execution_count": 2,
     "metadata": {},
     "output_type": "execute_result"
    }
   ],
   "source": [
    "load_dotenv()"
   ]
  },
  {
   "cell_type": "code",
   "execution_count": 3,
   "id": "afd70a27",
   "metadata": {},
   "outputs": [],
   "source": [
    "llm = ChatGroq(model = \"openai/gpt-oss-20b\",\n",
    "    temperature=0,\n",
    "    max_tokens=None,\n",
    "    reasoning_format=\"parsed\",\n",
    "    timeout=None,\n",
    "    max_retries=2)"
   ]
  },
  {
   "cell_type": "code",
   "execution_count": 4,
   "id": "1cba5b44",
   "metadata": {},
   "outputs": [],
   "source": [
    "from langgraph.graph.message import add_messages\n",
    "\n",
    "class ChatState(TypedDict):\n",
    "\n",
    "    messages: Annotated[list[BaseMessage], add_messages]"
   ]
  },
  {
   "cell_type": "code",
   "execution_count": 5,
   "id": "f4e9ed24",
   "metadata": {},
   "outputs": [],
   "source": [
    "def chat_node(state: ChatState):\n",
    "\n",
    "    # take user query from state\n",
    "    messages = state['messages']\n",
    "\n",
    "    # send to llm\n",
    "    response = llm.invoke(messages)\n",
    "\n",
    "    # response store state\n",
    "    return {'messages': [response]}"
   ]
  },
  {
   "cell_type": "code",
   "execution_count": 6,
   "id": "f3538992",
   "metadata": {},
   "outputs": [],
   "source": [
    "checkpointer = MemorySaver()\n",
    "\n",
    "graph = StateGraph(ChatState)\n",
    "\n",
    "# add nodes\n",
    "graph.add_node('chat_node', chat_node)\n",
    "\n",
    "graph.add_edge(START, 'chat_node')\n",
    "graph.add_edge('chat_node', END)\n",
    "\n",
    "chatbot = graph.compile(checkpointer=checkpointer)"
   ]
  },
  {
   "cell_type": "code",
   "execution_count": 7,
   "id": "5fb81154",
   "metadata": {},
   "outputs": [
    {
     "data": {
      "image/png": "[encoded data removed]",
      "text/plain": [
       "<langgraph.graph.state.CompiledStateGraph object at 0x0000018B4D397B90>"
      ]
     },
     "execution_count": 7,
     "metadata": {},
     "output_type": "execute_result"
    }
   ],
   "source": [
    "chatbot"
   ]
  },
  {
   "cell_type": "code",
   "execution_count": 8,
   "id": "ed151144",
   "metadata": {},
   "outputs": [
    {
     "data": {
      "text/plain": [
       "'The capital of India is **New\\u202fDelhi**.'"
      ]
     },
     "execution_count": 8,
     "metadata": {},
     "output_type": "execute_result"
    }
   ],
   "source": [
    "initial_state = {\n",
    "    'messages': [HumanMessage(content='What is the capital of india')]\n",
    "}\n",
    "\n",
    "config = {'configurable': {'thread_id': 1}} \n",
    "\n",
    "chatbot.invoke(initial_state, config=config)['messages'][-1].content"
   ]
  },
  {
   "cell_type": "code",
   "execution_count": 9,
   "id": "b9f73660",
   "metadata": {},
   "outputs": [
    {
     "name": "stdout",
     "output_type": "stream",
     "text": [
      "User:  My name is triloki\n",
      "AI:  Nice to meet you, Triloki! How can I help you today?\n",
      "User:  can you tell me my name\n",
      "AI:  Sure! Your name is **Triloki**.\n",
      "User:  thanks\n",
      "AI:  You’re welcome! If you have any more questions or need help with anything else, just let me know.\n",
      "User:  bye\n"
     ]
    }
   ],
   "source": [
    "thread_id = 1\n",
    "while True:\n",
    "    user_message = input(\"Type here: \")\n",
    "\n",
    "    print('User: ', user_message)\n",
    "\n",
    "    if user_message.strip().lower() in ['exit', 'quit', 'bye']:\n",
    "        break\n",
    "\n",
    "    config = {'configurable': {'thread_id': thread_id}}\n",
    "    \n",
    "    response = chatbot.invoke({'messages': [HumanMessage(content=user_message)]}, config=config)\n",
    "\n",
    "    print('AI: ', response['messages'][-1].content)"
   ]
  },
  {
   "cell_type": "code",
   "execution_count": 10,
   "id": "0c07af1d",
   "metadata": {},
   "outputs": [
    {
     "data": {
      "text/plain": [
       "StateSnapshot(values={'messages': [HumanMessage(content='What is the capital of india', additional_kwargs={}, response_metadata={}, id='065c2662-069d-40ca-9761-846b5090f7c8'), AIMessage(content='The capital of India is **New\\u202fDelhi**.', additional_kwargs={'reasoning_content': 'The user asks: \"What is the capital of india\". The answer: New Delhi. Provide concise answer.'}, response_metadata={'token_usage': {'completion_tokens': 43, 'prompt_tokens': 77, 'total_tokens': 120, 'completion_time': 0.04639593, 'prompt_time': 0.00423287, 'queue_time': 0.04589702, 'total_time': 0.0506288}, 'model_name': 'openai/gpt-oss-20b', 'system_fingerprint': 'fp_80501ff3a1', 'service_tier': 'on_demand', 'finish_reason': 'stop', 'logprobs': None}, id='run--3b574197-ae59-48d7-84fa-b757560b6418-0', usage_metadata={'input_tokens': 77, 'output_tokens': 43, 'total_tokens': 120}), HumanMessage(content='My name is triloki', additional_kwargs={}, response_metadata={}, id='87efcea8-ec3e-4855-b443-e6615551b39d'), AIMessage(content='Nice to meet you, Triloki! How can I help you today?', additional_kwargs={'reasoning_content': 'User says \"My name is triloki\". Likely they want a response acknowledging. Could ask how can help.'}, response_metadata={'token_usage': {'completion_tokens': 48, 'prompt_tokens': 103, 'total_tokens': 151, 'completion_time': 0.047930025, 'prompt_time': 0.005686574, 'queue_time': 0.052188706, 'total_time': 0.053616599}, 'model_name': 'openai/gpt-oss-20b', 'system_fingerprint': 'fp_77f8660d1d', 'service_tier': 'on_demand', 'finish_reason': 'stop', 'logprobs': None}, id='run--19c1994e-2faf-4060-bfd5-49b492122e89-0', usage_metadata={'input_tokens': 103, 'output_tokens': 48, 'total_tokens': 151}), HumanMessage(content='can you tell me my name', additional_kwargs={}, response_metadata={}, id='28b10325-ff9e-4056-bfc5-4b8b4ae6ba8e'), AIMessage(content='Sure! Your name is **Triloki**.', additional_kwargs={'reasoning_content': 'User says \"My name is triloki\". They ask \"can you tell me my name\". We can respond that we know it\\'s Triloki. Should be polite.'}, response_metadata={'token_usage': {'completion_tokens': 54, 'prompt_tokens': 134, 'total_tokens': 188, 'completion_time': 0.053995882, 'prompt_time': 0.007448064, 'queue_time': 0.050211055, 'total_time': 0.061443946}, 'model_name': 'openai/gpt-oss-20b', 'system_fingerprint': 'fp_80501ff3a1', 'service_tier': 'on_demand', 'finish_reason': 'stop', 'logprobs': None}, id='run--1eee96dc-08db-40b2-a587-423aefceefed-0', usage_metadata={'input_tokens': 134, 'output_tokens': 54, 'total_tokens': 188}), HumanMessage(content='thanks', additional_kwargs={}, response_metadata={}, id='d87a24b6-51a2-481d-9377-228a935b9f22'), AIMessage(content='You’re welcome! If you have any more questions or need help with anything else, just let me know.', additional_kwargs={'reasoning_content': 'User says thanks. We should respond politely.'}, response_metadata={'token_usage': {'completion_tokens': 41, 'prompt_tokens': 156, 'total_tokens': 197, 'completion_time': 0.040615603, 'prompt_time': 0.008626397, 'queue_time': 0.048452832, 'total_time': 0.049242}, 'model_name': 'openai/gpt-oss-20b', 'system_fingerprint': 'fp_80501ff3a1', 'service_tier': 'on_demand', 'finish_reason': 'stop', 'logprobs': None}, id='run--b0929651-5ad8-4fd0-92eb-474e3887edb1-0', usage_metadata={'input_tokens': 156, 'output_tokens': 41, 'total_tokens': 197})]}, next=(), config={'configurable': {'thread_id': '1', 'checkpoint_ns': '', 'checkpoint_id': '1f0b3263-b729-6a15-800a-9e25e7cdb6c0'}}, metadata={'source': 'loop', 'step': 10, 'parents': {}}, created_at='2025-10-27T11:15:23.598082+00:00', parent_config={'configurable': {'thread_id': '1', 'checkpoint_ns': '', 'checkpoint_id': '1f0b3263-b51c-6b49-8009-fe5ca458e84f'}}, tasks=(), interrupts=())"
      ]
     },
     "execution_count": 10,
     "metadata": {},
     "output_type": "execute_result"
    }
   ],
   "source": [
    "chatbot.get_state(config=config)"
   ]
  },
  {
   "cell_type": "code",
   "execution_count": null,
   "id": "294f7d37",
   "metadata": {},
   "outputs": [],
   "source": []
  }
 ],
 "metadata": {
  "kernelspec": {
   "display_name": "base",
   "language": "python",
   "name": "python3"
  },
  "language_info": {
   "codemirror_mode": {
    "name": "ipython",
    "version": 3
   },
   "file_extension": ".py",
   "mimetype": "text/x-python",
   "name": "python",
   "nbconvert_exporter": "python",
   "pygments_lexer": "ipython3",
   "version": "3.12.4"
  }
 },
 "nbformat": 4,
 "nbformat_minor": 5
}
