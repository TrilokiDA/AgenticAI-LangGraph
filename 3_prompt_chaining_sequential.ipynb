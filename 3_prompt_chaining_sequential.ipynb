{
 "cells": [
  {
   "cell_type": "code",
   "execution_count": 2,
   "id": "1d592d99",
   "metadata": {},
   "outputs": [],
   "source": [
    "from langgraph.graph import StateGraph, START, END\n",
    "from typing import TypedDict\n",
    "from langchain_groq import ChatGroq\n",
    "from dotenv import load_dotenv"
   ]
  },
  {
   "cell_type": "code",
   "execution_count": 3,
   "id": "213a7d5b",
   "metadata": {},
   "outputs": [
    {
     "data": {
      "text/plain": [
       "True"
      ]
     },
     "execution_count": 3,
     "metadata": {},
     "output_type": "execute_result"
    }
   ],
   "source": [
    "load_dotenv()"
   ]
  },
  {
   "cell_type": "code",
   "execution_count": 4,
   "id": "f305928f",
   "metadata": {},
   "outputs": [],
   "source": [
    "model = ChatGroq(model = \"deepseek-r1-distill-llama-70b\",\n",
    "    temperature=0,\n",
    "    max_tokens=None,\n",
    "    reasoning_format=\"parsed\",\n",
    "    timeout=None,\n",
    "    max_retries=2)"
   ]
  },
  {
   "cell_type": "code",
   "execution_count": 5,
   "id": "d9ec976a",
   "metadata": {},
   "outputs": [],
   "source": [
    "class BlogState(TypedDict):\n",
    "    title: str\n",
    "    outline: str\n",
    "    content: str"
   ]
  },
  {
   "cell_type": "code",
   "execution_count": 6,
   "id": "96bd3045",
   "metadata": {},
   "outputs": [],
   "source": [
    "def create_outline(state: BlogState) -> BlogState:\n",
    "    # title\n",
    "    title = state['title']\n",
    "\n",
    "    # call llm to get outline\n",
    "    prompt = f'Generate a detailed outline for a blog on the topic - {title}'\n",
    "    outline = model.invoke(prompt).content\n",
    "\n",
    "    # update state\n",
    "    state['outline'] = outline\n",
    "\n",
    "    return state"
   ]
  },
  {
   "cell_type": "code",
   "execution_count": 7,
   "id": "1407aced",
   "metadata": {},
   "outputs": [],
   "source": [
    "def create_blog(state: BlogState) -> BlogState:\n",
    "    title = state['title']\n",
    "    outline = state['outline']\n",
    "\n",
    "    prompt = f'Write a detailed blog on the title - {title} using the following outline \\n {outline}'\n",
    "\n",
    "    content = model.invoke(prompt).content\n",
    "\n",
    "    state['content'] = content\n",
    "\n",
    "    return state"
   ]
  },
  {
   "cell_type": "code",
   "execution_count": 8,
   "id": "4923514d",
   "metadata": {},
   "outputs": [],
   "source": [
    "# graph\n",
    "graph = StateGraph(BlogState)\n",
    "\n",
    "# nodes\n",
    "graph.add_node(\"create_outline\", create_outline)\n",
    "graph.add_node(\"create_blog\", create_blog)\n",
    "\n",
    "# edges\n",
    "graph.add_edge(START, \"create_outline\")\n",
    "graph.add_edge(\"create_outline\", \"create_blog\")\n",
    "graph.add_edge(\"create_blog\", END)\n",
    "\n",
    "workflow = graph.compile()"
   ]
  },
  {
   "cell_type": "code",
   "execution_count": 9,
   "id": "021fd979",
   "metadata": {},
   "outputs": [
    {
     "data": {
      "image/png": "[encoded data removed]",
      "text/plain": [
       "<langgraph.graph.state.CompiledStateGraph object at 0x0000029CFB64EE40>"
      ]
     },
     "execution_count": 9,
     "metadata": {},
     "output_type": "execute_result"
    }
   ],
   "source": [
    "workflow"
   ]
  },
  {
   "cell_type": "code",
   "execution_count": 10,
   "id": "90813bad",
   "metadata": {},
   "outputs": [
    {
     "name": "stdout",
     "output_type": "stream",
     "text": [
      "{'title': 'Rise of AI in India', 'outline': \"**Blog Outline: The Rise of AI in India**\\n\\n---\\n\\n**1. Introduction**\\n   - **Global Context of AI**: Brief overview of AI's growth worldwide.\\n   - **Focus on India**: Transition to India's unique position and potential in AI.\\n\\n**2. Current State of AI in India**\\n   - **Investments and Growth**: Mention specific investments, e.g., INR 1,300 crore allocation.\\n   - **Government Initiatives**: Discuss NITI Aayog's National Strategy and the AI Task Force.\\n   - **Industry Applications**: Highlight AI adoption in sectors like healthcare, education, and finance.\\n\\n**3. Factors Driving AI Adoption in India**\\n   - **Government Support**: Initiatives like Digital India and Make in India.\\n   - **IT Industry Strength**: Role of India's robust IT sector.\\n   - **Startup Ecosystem**: Impact of Startup India and booming AI startups.\\n   - **Demographic Advantage**: Young population and digital natives.\\n   - **Digital Infrastructure**: Increasing internet and smartphone penetration.\\n\\n**4. Impact of AI Across Sectors**\\n   - **Healthcare**: Diagnostics, drug discovery, personalized medicine.\\n   - **Education**: Personalized learning, virtual classrooms, platforms like BYJU's.\\n   - **Agriculture**: Crop yield optimization, AI-powered drones.\\n   - **Financial Services**: Fraud detection, personalized banking.\\n   - **Manufacturing**: Predictive maintenance, supply chain optimization.\\n   - **Transportation & Logistics**: Autonomous vehicles, route optimization.\\n   - **Retail & E-commerce**: Recommendation engines, chatbots.\\n\\n**5. Challenges and Ethical Considerations**\\n   - **Data Privacy**: Concerns and India's PDPA.\\n   - **Bias and Fairness**: Addressing algorithmic bias.\\n   - **Job Displacement**: Balance between job loss and new role creation.\\n   - **Infrastructure Limitations**: Internet connectivity in rural areas.\\n   - **Digital Divide**: Challenges in rural vs. urban access.\\n   - **Ethical Issues**: Surveillance, transparency in AI decisions.\\n\\n**6. Future Outlook and Opportunities**\\n   - **Government Initiatives**: Expected future policies and investments.\\n   - **Research and Development**: Growth in AI research and innovation.\\n   - **Startup Growth**: Increasing number of AI-focused startups.\\n   - **International Collaborations**: Partnerships with global entities.\\n   - **Solving India-Specific Issues**: Tackling healthcare access, traffic management.\\n\\n**7. Conclusion**\\n   - **Summary of Key Points**: Recap of AI's rise, impact, and challenges.\\n   - **Call to Action**: Encourage engagement with AI's potential in India.\\n\\n---\\n\\nThis outline provides a structured approach to exploring the rise of AI in India, ensuring a comprehensive and balanced view of its growth, impact, challenges, and future potential.\", 'content': \"**The Rise of AI in India: A Comprehensive Exploration**\\n\\n**Introduction**\\n\\nIn recent years, Artificial Intelligence (AI) has emerged as a transformative force globally, revolutionizing industries and redefining possibilities. As the world embraces this technological evolution, India is poised to play a significant role. With its unique blend of a robust IT sector, a young population, and a dynamic startup ecosystem, India is not just adopting AI but is also contributing to its global development. This blog delves into the rise of AI in India, exploring its current state, driving factors, sectoral impact, challenges, and future prospects.\\n\\n**Current State of AI in India**\\n\\nIndia's AI journey is gaining momentum, with significant investments and strategic initiatives. The government allocated INR 1,300 crore to AI development, signaling its commitment. NITI Aayog's National Strategy for AI and the AI Task Force have laid a structured framework, fostering innovation and guiding implementation. AI adoption is evident across sectors: in healthcare for diagnostics, in education through personalized platforms like BYJU's, and in finance for fraud detection, showcasing its versatile applications.\\n\\n**Factors Driving AI Adoption**\\n\\nSeveral factors are propelling AI growth in India. Government initiatives like Digital India and Make in India are creating a conducive environment. The IT industry's strength provides a solid foundation, while the startup ecosystem, bolstered by Startup India, is thriving with AI-focused ventures. India's young population and improving digital infrastructure, with increasing internet and smartphone penetration, further accelerate adoption, positioning India as a global AI hub.\\n\\n**Impact of AI Across Sectors**\\n\\nAI's impact is profound across various sectors:\\n\\n- **Healthcare**: Enhancing diagnostics and drug discovery, AI is revolutionizing patient care and personalized medicine.\\n- **Education**: Platforms like BYJU's offer personalized learning, making education accessible and tailored to individual needs.\\n- **Agriculture**: AI optimizes crop yields and employs drones for precision farming, boosting efficiency.\\n- **Financial Services**: AI detects fraud and offers personalized banking, enhancing security and customer experience.\\n- **Manufacturing**: Predictive maintenance and supply chain optimization are driving industry 4.0.\\n- **Transportation & Logistics**: Autonomous vehicles and route optimization are transforming mobility and delivery systems.\\n- **Retail & E-commerce**: Recommendation engines and chatbots enhance customer engagement and shopping experiences.\\n\\n**Challenges and Ethical Considerations**\\n\\nDespite progress, challenges persist. Data privacy concerns are addressed through India's Personal Data Protection Act (PDPA). Algorithmic bias and fairness require attention to ensure ethical AI use. Job displacement is a concern, though AI also creates new roles. Infrastructure limitations and the digital divide between urban and rural areas hinder equitable access. Ethical issues like surveillance and transparency in AI decisions must be navigated to ensure responsible AI deployment.\\n\\n**Future Outlook and Opportunities**\\n\\nThe future holds promise for AI in India. Expected government initiatives and increased R&D investments will drive innovation. The startup ecosystem is expected to flourish, with international collaborations enhancing global partnerships. AI is poised to tackle India-specific issues like healthcare access and traffic management, offering tailored solutions.\\n\\n**Conclusion**\\n\\nAI's rise in India is a testament to the nation's potential as a global leader. While challenges exist, the opportunities for growth, innovation, and problem-solving are immense. As India continues to embrace AI, it is crucial to address ethical concerns and ensure inclusive growth. The call to action is clear: engage with AI's potential to shape a transformative future for India.\\n\\n---\\n\\nThis blog provides a detailed exploration of AI's rise in India, highlighting its growth, impact, challenges, and future prospects, encouraging readers to actively participate in shaping its AI-driven future.\"}\n"
     ]
    }
   ],
   "source": [
    "initial_state = {'title': 'Rise of AI in India'}\n",
    "\n",
    "final_state = workflow.invoke(initial_state)\n",
    "\n",
    "print(final_state)"
   ]
  },
  {
   "cell_type": "code",
   "execution_count": 11,
   "id": "19615cfe",
   "metadata": {},
   "outputs": [
    {
     "name": "stdout",
     "output_type": "stream",
     "text": [
      "**Blog Outline: The Rise of AI in India**\n",
      "\n",
      "---\n",
      "\n",
      "**1. Introduction**\n",
      "   - **Global Context of AI**: Brief overview of AI's growth worldwide.\n",
      "   - **Focus on India**: Transition to India's unique position and potential in AI.\n",
      "\n",
      "**2. Current State of AI in India**\n",
      "   - **Investments and Growth**: Mention specific investments, e.g., INR 1,300 crore allocation.\n",
      "   - **Government Initiatives**: Discuss NITI Aayog's National Strategy and the AI Task Force.\n",
      "   - **Industry Applications**: Highlight AI adoption in sectors like healthcare, education, and finance.\n",
      "\n",
      "**3. Factors Driving AI Adoption in India**\n",
      "   - **Government Support**: Initiatives like Digital India and Make in India.\n",
      "   - **IT Industry Strength**: Role of India's robust IT sector.\n",
      "   - **Startup Ecosystem**: Impact of Startup India and booming AI startups.\n",
      "   - **Demographic Advantage**: Young population and digital natives.\n",
      "   - **Digital Infrastructure**: Increasing internet and smartphone penetration.\n",
      "\n",
      "**4. Impact of AI Across Sectors**\n",
      "   - **Healthcare**: Diagnostics, drug discovery, personalized medicine.\n",
      "   - **Education**: Personalized learning, virtual classrooms, platforms like BYJU's.\n",
      "   - **Agriculture**: Crop yield optimization, AI-powered drones.\n",
      "   - **Financial Services**: Fraud detection, personalized banking.\n",
      "   - **Manufacturing**: Predictive maintenance, supply chain optimization.\n",
      "   - **Transportation & Logistics**: Autonomous vehicles, route optimization.\n",
      "   - **Retail & E-commerce**: Recommendation engines, chatbots.\n",
      "\n",
      "**5. Challenges and Ethical Considerations**\n",
      "   - **Data Privacy**: Concerns and India's PDPA.\n",
      "   - **Bias and Fairness**: Addressing algorithmic bias.\n",
      "   - **Job Displacement**: Balance between job loss and new role creation.\n",
      "   - **Infrastructure Limitations**: Internet connectivity in rural areas.\n",
      "   - **Digital Divide**: Challenges in rural vs. urban access.\n",
      "   - **Ethical Issues**: Surveillance, transparency in AI decisions.\n",
      "\n",
      "**6. Future Outlook and Opportunities**\n",
      "   - **Government Initiatives**: Expected future policies and investments.\n",
      "   - **Research and Development**: Growth in AI research and innovation.\n",
      "   - **Startup Growth**: Increasing number of AI-focused startups.\n",
      "   - **International Collaborations**: Partnerships with global entities.\n",
      "   - **Solving India-Specific Issues**: Tackling healthcare access, traffic management.\n",
      "\n",
      "**7. Conclusion**\n",
      "   - **Summary of Key Points**: Recap of AI's rise, impact, and challenges.\n",
      "   - **Call to Action**: Encourage engagement with AI's potential in India.\n",
      "\n",
      "---\n",
      "\n",
      "This outline provides a structured approach to exploring the rise of AI in India, ensuring a comprehensive and balanced view of its growth, impact, challenges, and future potential.\n"
     ]
    }
   ],
   "source": [
    "print(final_state['outline'])"
   ]
  },
  {
   "cell_type": "code",
   "execution_count": 13,
   "id": "56eeea5d",
   "metadata": {},
   "outputs": [
    {
     "name": "stdout",
     "output_type": "stream",
     "text": [
      "**The Rise of AI in India: A Comprehensive Overview**\n",
      "\n",
      "**Introduction**\n",
      "\n",
      "Artificial Intelligence (AI) is revolutionizing industries worldwide, from healthcare to finance, by enabling machines to perform tasks that typically require human intelligence. As a transformative force, AI is reshaping global economies, and India is no exception. With its vast population and growing digital infrastructure, India is poised to harness AI's potential to drive economic growth and social development. This blog explores AI's rise in India, examining its current state, government initiatives, startup ecosystem, educational impact, job market dynamics, ethical considerations, and future prospects.\n",
      "\n",
      "**Current State of AI in India**\n",
      "\n",
      "AI adoption in India is gaining momentum across sectors, with healthcare, agriculture, education, and finance leading the charge. In healthcare, AI aids in disease diagnosis and personalized treatment plans. In agriculture, AI optimizes crop yields and resource use. Educational institutions are integrating AI for personalized learning, while finance leverages AI for fraud detection and algorithmic trading. However, urban areas, with better infrastructure, are adopting AI faster than rural regions, highlighting a digital divide that needs addressing.\n",
      "\n",
      "**Government Initiatives and Policies**\n",
      "\n",
      "The Indian government has launched the National AI Strategy to promote AI development, focusing on research, skilling, and applications. The Digital India Initiative integrates AI into broader digital transformation goals, enhancing governance and services. Public-private partnerships, such as the NITI Aayog's collaboration with startups, are fostering innovation and implementation of AI solutions.\n",
      "\n",
      "**Startups and Innovation Ecosystem**\n",
      "\n",
      "India's AI startup ecosystem is thriving, with companies like Noida-based Staqu and Bangalore-based Artivatic.ai making significant strides. Despite challenges like funding and talent acquisition, incubators and accelerators are nurturing these startups, providing resources for growth and innovation.\n",
      "\n",
      "**Impact on Education and Talent Development**\n",
      "\n",
      "Educational institutions are incorporating AI into curricula, partnering with tech companies to prepare students for future jobs. However, a talent gap exists, with a high demand for AI professionals. Upskilling initiatives, including online courses and government programs, aim to bridge this gap, ensuring the workforce is AI-ready.\n",
      "\n",
      "**Job Market and Employment Dynamics**\n",
      "\n",
      "AI is creating new roles like machine learning engineers and data scientists, while potentially displacing traditional jobs in sectors like manufacturing. To mitigate this, upskilling and reskilling programs are essential to prepare workers for an AI-driven economy.\n",
      "\n",
      "**Ethical Considerations and Regulatory Framework**\n",
      "\n",
      "Ethical issues such as bias, privacy, and accountability are critical in AI development. India is developing regulatory frameworks to govern AI, ensuring ethical use and participation in global discussions on AI ethics.\n",
      "\n",
      "**Future Prospects and Growth Opportunities**\n",
      "\n",
      "Emerging sectors like manufacturing and transportation are poised to benefit from AI. The integration of 5G and IoT will enhance AI capabilities, positioning India as a potential global leader in AI innovation.\n",
      "\n",
      "**Real-World Examples and Case Studies**\n",
      "\n",
      "AI is making tangible impacts across sectors. In healthcare, AI aids in early disease detection. In agriculture, AI optimizes crop management. Success stories like these highlight AI's transformative potential in India.\n",
      "\n",
      "**Conclusion**\n",
      "\n",
      "AI's rise in India presents vast opportunities for economic growth and social progress. While challenges like job displacement and ethical concerns exist, proactive measures are being taken to address them. As India continues to embrace AI, it is well-positioned to become a global leader in AI innovation. Encouraging further exploration and investment in AI will be crucial for harnessing its full potential.\n"
     ]
    }
   ],
   "source": [
    "print(final_state['content'])"
   ]
  },
  {
   "cell_type": "code",
   "execution_count": null,
   "id": "c59342b1",
   "metadata": {},
   "outputs": [],
   "source": []
  }
 ],
 "metadata": {
  "kernelspec": {
   "display_name": "base",
   "language": "python",
   "name": "python3"
  },
  "language_info": {
   "codemirror_mode": {
    "name": "ipython",
    "version": 3
   },
   "file_extension": ".py",
   "mimetype": "text/x-python",
   "name": "python",
   "nbconvert_exporter": "python",
   "pygments_lexer": "ipython3",
   "version": "3.12.4"
  }
 },
 "nbformat": 4,
 "nbformat_minor": 5
}
